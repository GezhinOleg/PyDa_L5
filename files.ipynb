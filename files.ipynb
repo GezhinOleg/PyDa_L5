{
  "nbformat": 4,
  "nbformat_minor": 0,
  "metadata": {
    "colab": {
      "name": "files.ipynb",
      "provenance": [],
      "authorship_tag": "ABX9TyOi17L/bvsHyhKL1C7SJV5Z",
      "include_colab_link": true
    },
    "kernelspec": {
      "name": "python3",
      "display_name": "Python 3"
    },
    "language_info": {
      "name": "python"
    }
  },
  "cells": [
    {
      "cell_type": "markdown",
      "metadata": {
        "id": "view-in-github",
        "colab_type": "text"
      },
      "source": [
        "<a href=\"https://colab.research.google.com/github/GezhinOleg/PyDa_L5/blob/main/files.ipynb\" target=\"_parent\"><img src=\"https://colab.research.google.com/assets/colab-badge.svg\" alt=\"Open In Colab\"/></a>"
      ]
    },
    {
      "cell_type": "code",
      "metadata": {
        "id": "pucTkNtCkzwm"
      },
      "source": [
        "'''\n",
        "1    Переведите содержимое файла purchase_log.txt в словарь purchases вида:\n",
        "    {‘1840e0b9d4’: ‘Продукты’, …}\n",
        "\n",
        "2    Для каждого user_id в файле visit_log.csv определите третий столбец с\n",
        "    категорией покупки (если покупка была, сам файл visit_log.csv изменять\n",
        "    не надо). Запишите в файл funnel.csv визиты из файла visit_log.csv, в\n",
        "    которых были покупки с указанием категории.\n",
        "    Учтите условия на данные:\n",
        "    содержимое purchase_log.txt помещается в оперативную память компьютера\n",
        "    содержимое visit_log.csv - нет; используйте только построчную обработку\n",
        "    этого файла\n",
        "'''\n",
        "\n",
        "import json\n",
        "\n",
        "def read_purchase(file_path):\n",
        "    purchases = {}\n",
        "    key = ''\n",
        "    vel = []\n",
        "    i = 0\n",
        "    with open(file_path, encoding = 'utf-8') as f:\n",
        "        f.readline()\n",
        "        for line in f:\n",
        "            line = line.strip()\n",
        "            dict_ = json.loads(line)\n",
        "            key = dict_['user_id']\n",
        "            if key in purchases:\n",
        "                purchases[key] = purchases[key] + ',' + dict_['category']\n",
        "            else:\n",
        "                purchases[key] = (dict_['category'])\n",
        "    with open(\"purchases_dict.txt\", \"w\", encoding=\"utf-8\") as file:\n",
        "        json.dump(purchases, file, indent=2, ensure_ascii=False)\n"
      ],
      "execution_count": null,
      "outputs": []
    },
    {
      "cell_type": "code",
      "metadata": {
        "id": "8pvAl3q_mMfa"
      },
      "source": [
        "def main():\n",
        "    read_purchase('purchase_log.txt')\n",
        "\n",
        "\n",
        "if __name__ == '__main__':\n",
        "    main()\n",
        "# Если значения 'user_id' в исходном файле совпадают, то к значению по\n",
        "# данному ключу прибавляется строка покупок."
      ],
      "execution_count": null,
      "outputs": []
    },
    {
      "cell_type": "code",
      "metadata": {
        "id": "qkw8u23uJ2Kp"
      },
      "source": [
        "import json\n",
        "\n",
        "\n",
        "def read_purchase(file_path):\n",
        "    purchases = {}\n",
        "    key = ''\n",
        "    vel = []\n",
        "    i = 0\n",
        "    with open(file_path, encoding = 'utf-8') as f:\n",
        "        f.readline()\n",
        "        for line in f:\n",
        "            line = line.strip()\n",
        "            dict_ = json.loads(line)\n",
        "            key = dict_['user_id']\n",
        "            if key in purchases:\n",
        "                purchases[key] = purchases[key] + '|' + dict_['category']\n",
        "            else:\n",
        "                purchases[key] = (dict_['category'])\n",
        "    return purchases\n"
      ],
      "execution_count": null,
      "outputs": []
    },
    {
      "cell_type": "code",
      "metadata": {
        "id": "4uDOFkj4J8AP"
      },
      "source": [
        "def read_csv(file_path, purch):\n",
        "    with open(file_path, encoding='utf-8') as f:\n",
        "        with open('funnel.csv', 'w', encoding='utf-8') as f2write:\n",
        "            line = f.readline().strip() + ',' + 'category \\n'\n",
        "            f2write.write(line)\n",
        "            i = 0\n",
        "            for line in f:\n",
        "                j = line.strip().split(',')[0]\n",
        "                if j in purch:\n",
        "                    st = line.strip()+ ',' + purch[j] + '\\n'\n",
        "                    f2write.write(st)"
      ],
      "execution_count": null,
      "outputs": []
    },
    {
      "cell_type": "code",
      "metadata": {
        "id": "kEHICb2eKASu"
      },
      "source": [
        "def main():\n",
        "    p_dict = read_purchase('purchase_log.txt')\n",
        "    read_csv('visit_log.csv', p_dict)\n",
        "\n",
        "if __name__ == '__main__':\n",
        "    main()\n"
      ],
      "execution_count": null,
      "outputs": []
    },
    {
      "cell_type": "markdown",
      "metadata": {
        "id": "0uSV6fAhlTbP"
      },
      "source": [
        ""
      ]
    }
  ]
}