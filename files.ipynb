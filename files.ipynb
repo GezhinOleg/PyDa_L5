{
  "nbformat": 4,
  "nbformat_minor": 0,
  "metadata": {
    "colab": {
      "name": "files.ipynb",
      "provenance": [],
      "authorship_tag": "ABX9TyMtgItgWoO/+a3YA3pQx8OA",
      "include_colab_link": true
    },
    "kernelspec": {
      "name": "python3",
      "display_name": "Python 3"
    },
    "language_info": {
      "name": "python"
    }
  },
  "cells": [
    {
      "cell_type": "markdown",
      "metadata": {
        "id": "view-in-github",
        "colab_type": "text"
      },
      "source": [
        "<a href=\"https://colab.research.google.com/github/GezhinOleg/PyDa_L5/blob/main/files.ipynb\" target=\"_parent\"><img src=\"https://colab.research.google.com/assets/colab-badge.svg\" alt=\"Open In Colab\"/></a>"
      ]
    },
    {
      "cell_type": "code",
      "metadata": {
        "id": "pucTkNtCkzwm"
      },
      "source": [
        "'''\n",
        "1    Переведите содержимое файла purchase_log.txt в словарь purchases вида:\n",
        "    {‘1840e0b9d4’: ‘Продукты’, …}\n",
        "\n",
        "2    Для каждого user_id в файле visit_log.csv определите третий столбец с\n",
        "    категорией покупки (если покупка была, сам файл visit_log.csv изменять\n",
        "    не надо). Запишите в файл funnel.csv визиты из файла visit_log.csv, в\n",
        "    которых были покупки с указанием категории.\n",
        "    Учтите условия на данные:\n",
        "    содержимое purchase_log.txt помещается в оперативную память компьютера\n",
        "    содержимое visit_log.csv - нет; используйте только построчную обработку\n",
        "    этого файла\n",
        "'''\n",
        "\n",
        "import json\n",
        "\n",
        "\n",
        "purchases = {}\n",
        "key = ''\n",
        "i = 0\n",
        "with open('purchase_log.txt', encoding='utf-8') as f:\n",
        "    for line in f:\n",
        "        line = line.strip()\n",
        "        dict_ = json.loads(line)\n",
        "        key = dict_['user_id']\n",
        "        if key != 'user_id':\n",
        "            purchases[key] = dict_['category']\n",
        "        else:\n",
        "            continue\n",
        "with open(\"purchases_dict.json\", \"w\", encoding=\"utf-8\") as file:\n",
        "    json.dump(purchases, file, indent=2, ensure_ascii=False)"
      ],
      "execution_count": null,
      "outputs": []
    },
    {
      "cell_type": "code",
      "metadata": {
        "id": "8pvAl3q_mMfa"
      },
      "source": [
        "with open('visit_log.csv', encoding='utf-8') as f:\n",
        "    with open('funnel.csv', 'w', encoding='utf-8') as f2write:\n",
        "        i = 0\n",
        "        lst = []\n",
        "        for line in f:\n",
        "            if 'source' in line:\n",
        "                line =line.strip() + ',' + 'category \\n'\n",
        "            elif 'other' in line:\n",
        "                line =line.strip() + ',' + 'clothes \\n'\n",
        "            elif 'context' in line:\n",
        "                line =line.strip() + ',' + 'tools \\n'\n",
        "            elif 'email' in line:\n",
        "                line =line.strip() + ',' + 'computers \\n'\n",
        "            elif 'None' in line:\n",
        "                continue\n",
        "            f2write.write(line)\n",
        "# Признаком отсутствия покупки, принял значение \"None\" в столбце 'source',\n",
        "# Категории покупки, добавил вид товара."
      ],
      "execution_count": null,
      "outputs": []
    },
    {
      "cell_type": "markdown",
      "metadata": {
        "id": "0uSV6fAhlTbP"
      },
      "source": [
        ""
      ]
    }
  ]
}